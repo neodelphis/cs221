{
 "cells": [
  {
   "cell_type": "code",
   "execution_count": 12,
   "metadata": {},
   "outputs": [],
   "source": [
    "import collections, random, math"
   ]
  },
  {
   "cell_type": "code",
   "execution_count": 2,
   "metadata": {},
   "outputs": [
    {
     "data": {
      "text/plain": [
       "defaultdict(float, {'a': 5})"
      ]
     },
     "execution_count": 2,
     "metadata": {},
     "output_type": "execute_result"
    }
   ],
   "source": [
    "collections.defaultdict(float, {'a': 5})"
   ]
  },
  {
   "cell_type": "code",
   "execution_count": 7,
   "metadata": {},
   "outputs": [
    {
     "name": "stdout",
     "output_type": "stream",
     "text": [
      "[('a', 3), ('b', 2)]\n",
      "dict_keys(['b', 'a'])\n"
     ]
    }
   ],
   "source": [
    "v2 = collections.defaultdict(float, {'b': 2, 'a': 3})\n",
    "print(sorted(v2.items()))\n",
    "print(v2.keys())"
   ]
  },
  {
   "cell_type": "code",
   "execution_count": 8,
   "metadata": {},
   "outputs": [
    {
     "data": {
      "text/plain": [
       "[1, 2, 1, 2]"
      ]
     },
     "execution_count": 8,
     "metadata": {},
     "output_type": "execute_result"
    }
   ],
   "source": [
    "l = [1, 2]\n",
    "2*l"
   ]
  },
  {
   "cell_type": "markdown",
   "metadata": {},
   "source": [
    "### Pb 1-d"
   ]
  },
  {
   "cell_type": "code",
   "execution_count": 1,
   "metadata": {},
   "outputs": [
    {
     "name": "stdout",
     "output_type": "stream",
     "text": [
      "-2.525728644308255\n",
      "-2.7488721956224653\n",
      "-3.2596978193884554\n",
      "-3.88830647881083\n",
      "-4.581453659370775\n",
      "-5.315422834450975\n",
      "-6.077562886497872\n",
      "-6.860322225747505\n",
      "-7.658829921965276\n"
     ]
    }
   ],
   "source": [
    "import numpy as np\n",
    "for n in range(1,10):\n",
    "    f = np.log(n)+n*np.log(0.4)-np.log(5)\n",
    "    print(f)"
   ]
  },
  {
   "cell_type": "markdown",
   "metadata": {},
   "source": [
    "### Pb 3"
   ]
  },
  {
   "cell_type": "code",
   "execution_count": 10,
   "metadata": {},
   "outputs": [
    {
     "data": {
      "text/plain": [
       "['b', 'a']"
      ]
     },
     "execution_count": 10,
     "metadata": {},
     "output_type": "execute_result"
    }
   ],
   "source": [
    "v2 = collections.defaultdict(float, {'b': 2, 'a': 3})\n",
    "keys = [key for key in v2]\n",
    "keys"
   ]
  },
  {
   "cell_type": "markdown",
   "metadata": {},
   "source": [
    "create a list of random numbers with no repetition, use random.sample function"
   ]
  },
  {
   "cell_type": "code",
   "execution_count": 16,
   "metadata": {},
   "outputs": [
    {
     "data": {
      "text/plain": [
       "[11, 12, 43, 30, 75]"
      ]
     },
     "execution_count": 16,
     "metadata": {},
     "output_type": "execute_result"
    }
   ],
   "source": [
    "random.sample(range(1,100), random.randint(0,9)) #randint(0,9)=> 0 <= x <= 9"
   ]
  },
  {
   "cell_type": "code",
   "execution_count": 20,
   "metadata": {},
   "outputs": [
    {
     "data": {
      "text/plain": [
       "-1"
      ]
     },
     "execution_count": 20,
     "metadata": {},
     "output_type": "execute_result"
    }
   ],
   "source": [
    "score = -1\n",
    "y = 1 if (score > 0) else -1\n",
    "y"
   ]
  },
  {
   "cell_type": "code",
   "execution_count": 29,
   "metadata": {},
   "outputs": [
    {
     "data": {
      "text/plain": [
       "'Ceciestuntest'"
      ]
     },
     "execution_count": 29,
     "metadata": {},
     "output_type": "execute_result"
    }
   ],
   "source": [
    "x = 'Ceci est un test'\n",
    "x = x.replace(' ', '')\n",
    "x"
   ]
  },
  {
   "cell_type": "code",
   "execution_count": 30,
   "metadata": {},
   "outputs": [
    {
     "data": {
      "text/plain": [
       "{'Cec', 'cie', 'eci', 'est', 'ies', 'nte', 'stu', 'tes', 'tun', 'unt'}"
      ]
     },
     "execution_count": 30,
     "metadata": {},
     "output_type": "execute_result"
    }
   ],
   "source": [
    "\n",
    "chunks, chunk_size = len(x), 3\n",
    "set([ x[i:i+chunk_size] for i in range(0, chunks-chunk_size+1, 1) ])\n"
   ]
  },
  {
   "cell_type": "markdown",
   "metadata": {},
   "source": [
    "### Pb 4"
   ]
  },
  {
   "cell_type": "code",
   "execution_count": 2,
   "metadata": {},
   "outputs": [],
   "source": [
    "import numpy as np\n",
    "phi = np.array([[1,0], [1,2], [3,0], [3,2]]) "
   ]
  },
  {
   "cell_type": "code",
   "execution_count": 4,
   "metadata": {},
   "outputs": [],
   "source": [
    "cluster = [1, 2]"
   ]
  },
  {
   "cell_type": "code",
   "execution_count": 9,
   "metadata": {},
   "outputs": [
    {
     "data": {
      "text/plain": [
       "array([[1, 2],\n",
       "       [3, 0]])"
      ]
     },
     "execution_count": 9,
     "metadata": {},
     "output_type": "execute_result"
    }
   ],
   "source": [
    "phi[cluster]"
   ]
  },
  {
   "cell_type": "code",
   "execution_count": 10,
   "metadata": {},
   "outputs": [
    {
     "data": {
      "text/plain": [
       "array([4, 2])"
      ]
     },
     "execution_count": 10,
     "metadata": {},
     "output_type": "execute_result"
    }
   ],
   "source": [
    "np.sum(phi[cluster], axis=0)"
   ]
  },
  {
   "cell_type": "code",
   "execution_count": 17,
   "metadata": {},
   "outputs": [
    {
     "data": {
      "text/plain": [
       "[4, 2]"
      ]
     },
     "execution_count": 17,
     "metadata": {},
     "output_type": "execute_result"
    }
   ],
   "source": [
    "random.sample([0, 1, 2, 3, 4, 5], 2)"
   ]
  },
  {
   "cell_type": "markdown",
   "metadata": {},
   "source": [
    "Distance entre deux vecteurs épars:"
   ]
  },
  {
   "cell_type": "code",
   "execution_count": 40,
   "metadata": {},
   "outputs": [],
   "source": [
    "x = {'a':1, 'b':2}\n",
    "y = {'b':3, 'c':1}\n",
    "x_keys = set(x.keys())\n",
    "y_keys = set(y.keys())\n",
    "intersection = x_keys.intersection(y_keys)"
   ]
  },
  {
   "cell_type": "code",
   "execution_count": 25,
   "metadata": {},
   "outputs": [
    {
     "data": {
      "text/plain": [
       "{'a', 'b', 'c'}"
      ]
     },
     "execution_count": 25,
     "metadata": {},
     "output_type": "execute_result"
    }
   ],
   "source": [
    "set(list(x.keys())+list(y.keys()))"
   ]
  },
  {
   "cell_type": "code",
   "execution_count": 31,
   "metadata": {},
   "outputs": [
    {
     "data": {
      "text/plain": [
       "{'b'}"
      ]
     },
     "execution_count": 31,
     "metadata": {},
     "output_type": "execute_result"
    }
   ],
   "source": [
    "intersection = set(list(x.keys())).intersection(set(list(y.keys())))\n",
    "intersection"
   ]
  },
  {
   "cell_type": "code",
   "execution_count": 33,
   "metadata": {},
   "outputs": [
    {
     "data": {
      "text/plain": [
       "{'c'}"
      ]
     },
     "execution_count": 33,
     "metadata": {},
     "output_type": "execute_result"
    }
   ],
   "source": [
    "set(list(y.keys())).difference(intersection)"
   ]
  },
  {
   "cell_type": "code",
   "execution_count": 45,
   "metadata": {},
   "outputs": [
    {
     "data": {
      "text/plain": [
       "3"
      ]
     },
     "execution_count": 45,
     "metadata": {},
     "output_type": "execute_result"
    }
   ],
   "source": [
    "# Distance entre deux vecteurs épars\n",
    "\n",
    "x = {'a':1, 'b':2}\n",
    "y = {'b':3, 'c':1}\n",
    "x_keys = set(x.keys())\n",
    "y_keys = set(y.keys())\n",
    "intersection = x_keys.intersection(y_keys)\n",
    "\n",
    "distance = 0\n",
    "# Clés seulement dans x\n",
    "for key in x_keys.difference(intersection):\n",
    "    distance += x[key]**2\n",
    "\n",
    "# Clés seulement dans y\n",
    "for key in y_keys.difference(intersection):\n",
    "    distance += y[key]**2\n",
    "\n",
    "# Clés dans les deux vecteurs (dict)\n",
    "for key in intersection:\n",
    "    distance += (x[key]-y[key])**2\n",
    "\n",
    "distance"
   ]
  },
  {
   "cell_type": "code",
   "execution_count": null,
   "metadata": {},
   "outputs": [],
   "source": [
    "# Calcul d'un centroïde à partir d'une liste de vecteurs épars"
   ]
  },
  {
   "cell_type": "code",
   "execution_count": 61,
   "metadata": {},
   "outputs": [],
   "source": [
    "x_in_cluster = [{0: 0, 1: 2}, {0: 0, 2: 3}, {0: 0, 1: 4}, {0: 0, 1: 5}]"
   ]
  },
  {
   "cell_type": "code",
   "execution_count": 55,
   "metadata": {},
   "outputs": [
    {
     "name": "stdout",
     "output_type": "stream",
     "text": [
      "dict_keys([0, 1])\n",
      "dict_keys([0, 2])\n",
      "dict_keys([0, 1])\n",
      "dict_keys([0, 1])\n"
     ]
    }
   ],
   "source": [
    "for i in range(len(x_in_cluster)):\n",
    "    x = x_in_cluster[i]\n",
    "    print (x.keys())"
   ]
  },
  {
   "cell_type": "code",
   "execution_count": 56,
   "metadata": {},
   "outputs": [
    {
     "data": {
      "text/plain": [
       "{'c': 1, 'a': 8, 'b': 7}"
      ]
     },
     "execution_count": 56,
     "metadata": {},
     "output_type": "execute_result"
    }
   ],
   "source": [
    "dict1 = {'a': 5, 'b': 7}\n",
    "dict2 = {'a': 3, 'c': 1}\n",
    "\n",
    "result = {key: dict1.get(key, 0) + dict2.get(key, 0) for key in set(dict1) | set(dict2)}\n",
    "result\n",
    "# {'c': 1, 'b': 7, 'a': 8}"
   ]
  },
  {
   "cell_type": "code",
   "execution_count": 65,
   "metadata": {},
   "outputs": [
    {
     "name": "stdout",
     "output_type": "stream",
     "text": [
      "{0: 0, 2: 3}\n",
      "{0: 0, 1: 2, 2: 3}\n",
      "{0: 0, 1: 4}\n",
      "{0: 0.0, 1: 4.5}\n",
      "{0: 0, 1: 5}\n",
      "{0: 0.0, 1: 5.5}\n"
     ]
    }
   ],
   "source": [
    "n_cluster = len(x_in_cluster) # taille du cluster\n",
    "if n_cluster == 0:\n",
    "    pass\n",
    "    # modifier K\n",
    "else:\n",
    "    a = x_in_cluster[0]\n",
    "    for j in range(1, n_cluster):\n",
    "        b = x_in_cluster[j]\n",
    "        print(b)\n",
    "        a = {key: a.get(key, 0) + b.get(key, 0) for key in set(a) | set(b)} # | ~ union()\n",
    "        print (a)\n",
    "    a = {k: v / n_cluster for k, v in x_in_cluster[0].items()}\n",
    "        \n",
    "    #average_of_x = {key: x_in_cluster[0].get(key, 0) + dict2.get(key, 0) for key in set(dict1) | set(dict2)}\n",
    "    #average_of_x = average_of_x / n_cluster\n",
    "    #print (a)\n"
   ]
  },
  {
   "cell_type": "code",
   "execution_count": null,
   "metadata": {},
   "outputs": [],
   "source": []
  }
 ],
 "metadata": {
  "kernelspec": {
   "display_name": "Python 3",
   "language": "python",
   "name": "python3"
  },
  "language_info": {
   "codemirror_mode": {
    "name": "ipython",
    "version": 3
   },
   "file_extension": ".py",
   "mimetype": "text/x-python",
   "name": "python",
   "nbconvert_exporter": "python",
   "pygments_lexer": "ipython3",
   "version": "3.7.3"
  }
 },
 "nbformat": 4,
 "nbformat_minor": 2
}
