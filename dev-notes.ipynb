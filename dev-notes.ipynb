{
 "cells": [
  {
   "cell_type": "markdown",
   "metadata": {},
   "source": [
    "## a3-reconstruct"
   ]
  },
  {
   "cell_type": "code",
   "execution_count": 2,
   "metadata": {},
   "outputs": [
    {
     "name": "stdout",
     "output_type": "stream",
     "text": [
      "13\n"
     ]
    }
   ],
   "source": [
    "state = ['ceci', 'est', 'un', 'test']\n",
    "length = sum([len(word) for word in state])\n",
    "print (length)"
   ]
  },
  {
   "cell_type": "code",
   "execution_count": 3,
   "metadata": {},
   "outputs": [
    {
     "data": {
      "text/plain": [
       "0"
      ]
     },
     "execution_count": 3,
     "metadata": {},
     "output_type": "execute_result"
    }
   ],
   "source": [
    "len([])"
   ]
  },
  {
   "cell_type": "code",
   "execution_count": 6,
   "metadata": {},
   "outputs": [
    {
     "data": {
      "text/plain": [
       "'est'"
      ]
     },
     "execution_count": 6,
     "metadata": {},
     "output_type": "execute_result"
    }
   ],
   "source": [
    "query = 'ceciestuntest'\n",
    "i_init = 4\n",
    "longueur = 3 # min 1\n",
    "query[i_init:i_init+longueur]"
   ]
  },
  {
   "cell_type": "code",
   "execution_count": 11,
   "metadata": {},
   "outputs": [
    {
     "name": "stdout",
     "output_type": "stream",
     "text": [
      "7\n"
     ]
    }
   ],
   "source": [
    "state = ['ceci', 'est']\n",
    "i_init = sum([len(word) for word in state])\n",
    "print(i_init)"
   ]
  },
  {
   "cell_type": "code",
   "execution_count": 19,
   "metadata": {},
   "outputs": [
    {
     "name": "stdout",
     "output_type": "stream",
     "text": [
      "u\n",
      "un\n",
      "unt\n",
      "unte\n",
      "untes\n",
      "untest\n"
     ]
    }
   ],
   "source": [
    "for i_end in range(i_init+1, len(query)+1):\n",
    "    print (query[i_init:i_end])"
   ]
  },
  {
   "cell_type": "code",
   "execution_count": 20,
   "metadata": {},
   "outputs": [
    {
     "data": {
      "text/plain": [
       "'ceci est'"
      ]
     },
     "execution_count": 20,
     "metadata": {},
     "output_type": "execute_result"
    }
   ],
   "source": [
    "\n",
    "\n",
    "\" \".join(state)"
   ]
  },
  {
   "cell_type": "markdown",
   "metadata": {},
   "source": [
    "Test sentences\n",
    "- `beforejumpingintocodeyoushouldthink`\n",
    "- `implementanalgorithmthatunlikegreedy`"
   ]
  },
  {
   "cell_type": "code",
   "execution_count": 4,
   "metadata": {},
   "outputs": [],
   "source": [
    "engineers = set(['John', 'Jane', 'Jack', 'Janice'])"
   ]
  },
  {
   "cell_type": "code",
   "execution_count": 5,
   "metadata": {},
   "outputs": [
    {
     "name": "stdout",
     "output_type": "stream",
     "text": [
      "Jane\n",
      "Jack\n",
      "Janice\n",
      "John\n"
     ]
    }
   ],
   "source": [
    "for name in engineers:\n",
    "    print(name)"
   ]
  },
  {
   "cell_type": "code",
   "execution_count": 6,
   "metadata": {},
   "outputs": [],
   "source": [
    "def bigramCost(a, b):\n",
    "    corpus = [wordsegUtil.SENTENCE_BEGIN] + 'beam me up scotty'.split()\n",
    "    if (a, b) in list(zip(corpus, corpus[1:])):\n",
    "        return 1.0\n",
    "    else:\n",
    "        return 1000.0\n",
    "def possibleFills(x):\n",
    "            fills = {\n",
    "                'bm'   : set(['beam', 'bam', 'boom']),\n",
    "                'm'    : set(['me', 'ma']),\n",
    "                'p'    : set(['up', 'oop', 'pa', 'epe']),\n",
    "                'sctty': set(['scotty']),\n",
    "            }\n",
    "            return fills.get(x, set())\n"
   ]
  },
  {
   "cell_type": "code",
   "execution_count": 8,
   "metadata": {},
   "outputs": [
    {
     "data": {
      "text/plain": [
       "{'bam', 'beam', 'boom'}"
      ]
     },
     "execution_count": 8,
     "metadata": {},
     "output_type": "execute_result"
    }
   ],
   "source": [
    "possibleFills('bm')"
   ]
  },
  {
   "cell_type": "code",
   "execution_count": 3,
   "metadata": {},
   "outputs": [
    {
     "data": {
      "text/plain": [
       "'tst'"
      ]
     },
     "execution_count": 3,
     "metadata": {},
     "output_type": "execute_result"
    }
   ],
   "source": [
    "queryWords = 'cc st n tst'\n",
    "words = queryWords.split()\n",
    "words[-1]"
   ]
  },
  {
   "cell_type": "code",
   "execution_count": 4,
   "metadata": {},
   "outputs": [
    {
     "data": {
      "text/plain": [
       "4"
      ]
     },
     "execution_count": 4,
     "metadata": {},
     "output_type": "execute_result"
    }
   ],
   "source": [
    "len(words)"
   ]
  },
  {
   "cell_type": "code",
   "execution_count": 15,
   "metadata": {},
   "outputs": [
    {
     "data": {
      "text/plain": [
       "<filter at 0x104fe4128>"
      ]
     },
     "execution_count": 15,
     "metadata": {},
     "output_type": "execute_result"
    }
   ],
   "source": [
    "import collections\n",
    "import math\n",
    "def alphaOnly(s):\n",
    "    s = s.replace('-', ' ')\n",
    "    return filter(lambda c: c.isalpha() or c == ' ', s)\n",
    "\n",
    "def cleanLine(l):\n",
    "    return alphaOnly(l.strip().lower())\n",
    "\n",
    "def words(l):\n",
    "    return l.split()\n",
    "\n",
    "l = 'où 1 été 01 fût dès à'\n",
    "ws = (cleanLine(l))\n",
    "ws"
   ]
  },
  {
   "cell_type": "code",
   "execution_count": 16,
   "metadata": {},
   "outputs": [
    {
     "name": "stdout",
     "output_type": "stream",
     "text": [
      "o\n",
      "ù\n",
      " \n",
      " \n",
      "é\n",
      "t\n",
      "é\n",
      " \n",
      " \n",
      "f\n",
      "û\n",
      "t\n",
      " \n",
      "d\n",
      "è\n",
      "s\n",
      " \n",
      "à\n"
     ]
    }
   ],
   "source": [
    "for w in ws:\n",
    "    print(w)"
   ]
  },
  {
   "cell_type": "code",
   "execution_count": 2,
   "metadata": {},
   "outputs": [
    {
     "data": {
      "text/plain": [
       "' '"
      ]
     },
     "execution_count": 2,
     "metadata": {},
     "output_type": "execute_result"
    }
   ],
   "source": [
    "'\\''.replace('\\'', ' ')"
   ]
  },
  {
   "cell_type": "code",
   "execution_count": 3,
   "metadata": {},
   "outputs": [],
   "source": [
    "# max(computeQ(mdp, V, state, action) for action in mdp.actions(state))\n",
    "# max([]) # = > ValueError: max() arg is an empty sequence"
   ]
  },
  {
   "cell_type": "markdown",
   "metadata": {},
   "source": [
    "Tirage d'une carte au harsard dans un deck"
   ]
  },
  {
   "cell_type": "code",
   "execution_count": 1,
   "metadata": {},
   "outputs": [],
   "source": [
    "deck_card_count = (3,) * 5 # initialement\n",
    "deck_card_count = (3, 0, 2, 3, 1)"
   ]
  },
  {
   "cell_type": "code",
   "execution_count": 2,
   "metadata": {},
   "outputs": [],
   "source": [
    "import random"
   ]
  },
  {
   "cell_type": "code",
   "execution_count": 7,
   "metadata": {},
   "outputs": [
    {
     "data": {
      "text/plain": [
       "[2, 0, 3, 3, 3, 1, 1, 0, 3, 3]"
      ]
     },
     "execution_count": 7,
     "metadata": {},
     "output_type": "execute_result"
    }
   ],
   "source": [
    "# Montre une carte de la pioche\n",
    "def next_card(deck_card_count):\n",
    "    # renvoie aléatoirement une carte représentée par son index\n",
    "    # Reconstruction du deck\n",
    "    deck = []\n",
    "    for index, card_count in enumerate(deck_card_count):\n",
    "        # index : hauteur de la carte\n",
    "        # card_count : nd de cartes de ce type restant dans le deck\n",
    "        deck += list((index,)*card_count)\n",
    "    return random.choice(deck_card_count)\n",
    "\n",
    "[next_card(deck_card_count) for i in range(10)]"
   ]
  },
  {
   "cell_type": "code",
   "execution_count": 21,
   "metadata": {},
   "outputs": [
    {
     "data": {
      "text/plain": [
       "()"
      ]
     },
     "execution_count": 21,
     "metadata": {},
     "output_type": "execute_result"
    }
   ],
   "source": [
    "tuple_vide = (3,) * 0\n",
    "tuple_vide"
   ]
  },
  {
   "cell_type": "code",
   "execution_count": 23,
   "metadata": {},
   "outputs": [],
   "source": [
    "deck_card_count = (3, 0, 2, 3, 1)"
   ]
  },
  {
   "cell_type": "code",
   "execution_count": 30,
   "metadata": {},
   "outputs": [
    {
     "name": "stdout",
     "output_type": "stream",
     "text": [
      "0 0.3333333333333333\n",
      "2 0.2222222222222222\n",
      "3 0.3333333333333333\n",
      "4 0.1111111111111111\n"
     ]
    }
   ],
   "source": [
    "# Probabilité de voir apparaître une carte lorsqu'on en regarde une au hasard\n",
    "# va servir pour T(s,a,s') lorsque a = 'peek'\n",
    "number_of_cards = sum(deck_card_count)\n",
    "peek_probability = tuple(card_count/number_of_cards for card_count in deck_card_count)\n",
    "for index, probability in enumerate(peek_probability):\n",
    "    if probability != 0:\n",
    "        print(index, probability)"
   ]
  },
  {
   "cell_type": "code",
   "execution_count": 57,
   "metadata": {},
   "outputs": [],
   "source": [
    "deck_card_count = (0, 1, 2, 3, 1)\n",
    "cardValues = [1, 2, 3, 4, 5]\n",
    "threshold = 4\n",
    "total_card_value_in_hand = 2"
   ]
  },
  {
   "cell_type": "code",
   "execution_count": 58,
   "metadata": {},
   "outputs": [
    {
     "data": {
      "text/plain": [
       "0.8571428571428571"
      ]
     },
     "execution_count": 58,
     "metadata": {},
     "output_type": "execute_result"
    }
   ],
   "source": [
    "# Probabilité de piocher une carte trop haute\n",
    "number_of_cards = sum(deck_card_count)\n",
    "number_of_bust_cards = sum( card_count for index, card_count in enumerate(deck_card_count) if cardValues[index] > (threshold - total_card_value_in_hand))\n",
    "number_of_bust_cards / number_of_cards"
   ]
  },
  {
   "cell_type": "code",
   "execution_count": 59,
   "metadata": {},
   "outputs": [
    {
     "data": {
      "text/plain": [
       "[2, 3, 1]"
      ]
     },
     "execution_count": 59,
     "metadata": {},
     "output_type": "execute_result"
    }
   ],
   "source": [
    "[card_count for index, card_count in enumerate(deck_card_count) if cardValues[index] > (threshold - total_card_value_in_hand)]"
   ]
  },
  {
   "cell_type": "code",
   "execution_count": 60,
   "metadata": {},
   "outputs": [
    {
     "name": "stdout",
     "output_type": "stream",
     "text": [
      "0 1 0.0\n",
      "1 2 0.14285714285714285\n"
     ]
    }
   ],
   "source": [
    "# On pioche une carte dont la valeur ne nous fais pas dépasser le seuil\n",
    "for index, card_count in enumerate(deck_card_count):\n",
    "    if cardValues[index] <= (threshold - total_card_value_in_hand):\n",
    "        # On estime la probabilité d'obtenir cardValues[index]\n",
    "        probability = card_count / number_of_cards\n",
    "        print(card_count, cardValues[index], probability)"
   ]
  },
  {
   "cell_type": "code",
   "execution_count": 56,
   "metadata": {},
   "outputs": [
    {
     "data": {
      "text/plain": [
       "1.0"
      ]
     },
     "execution_count": 56,
     "metadata": {},
     "output_type": "execute_result"
    }
   ],
   "source": [
    "0.5454545454545454 + 0.36363636363636365 + 0.09090909090909091"
   ]
  },
  {
   "cell_type": "code",
   "execution_count": 63,
   "metadata": {},
   "outputs": [
    {
     "data": {
      "text/plain": [
       "(0, 0, 2, 3, 1)"
      ]
     },
     "execution_count": 63,
     "metadata": {},
     "output_type": "execute_result"
    }
   ],
   "source": [
    "deck_card_count = (0, 1, 2, 3, 1)\n",
    "index = 1\n",
    "list_card_count = list(deck_card_count)\n",
    "list_card_count[index] -= 1\n",
    "new_deck_card_count = tuple(list_card_count)  # Bof bof de travailler avec des tuples\n",
    "new_deck_card_count"
   ]
  },
  {
   "cell_type": "code",
   "execution_count": null,
   "metadata": {},
   "outputs": [],
   "source": []
  }
 ],
 "metadata": {
  "kernelspec": {
   "display_name": "Python 3",
   "language": "python",
   "name": "python3"
  },
  "language_info": {
   "codemirror_mode": {
    "name": "ipython",
    "version": 3
   },
   "file_extension": ".py",
   "mimetype": "text/x-python",
   "name": "python",
   "nbconvert_exporter": "python",
   "pygments_lexer": "ipython3",
   "version": "3.7.3"
  }
 },
 "nbformat": 4,
 "nbformat_minor": 2
}
