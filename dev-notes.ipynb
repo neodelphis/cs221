{
 "cells": [
  {
   "cell_type": "markdown",
   "metadata": {},
   "source": [
    "## a3-reconstruct"
   ]
  },
  {
   "cell_type": "code",
   "execution_count": 2,
   "metadata": {},
   "outputs": [
    {
     "name": "stdout",
     "output_type": "stream",
     "text": [
      "13\n"
     ]
    }
   ],
   "source": [
    "state = ['ceci', 'est', 'un', 'test']\n",
    "length = sum([len(word) for word in state])\n",
    "print (length)"
   ]
  },
  {
   "cell_type": "code",
   "execution_count": 3,
   "metadata": {},
   "outputs": [
    {
     "data": {
      "text/plain": [
       "0"
      ]
     },
     "execution_count": 3,
     "metadata": {},
     "output_type": "execute_result"
    }
   ],
   "source": [
    "len([])"
   ]
  },
  {
   "cell_type": "code",
   "execution_count": 6,
   "metadata": {},
   "outputs": [
    {
     "data": {
      "text/plain": [
       "'est'"
      ]
     },
     "execution_count": 6,
     "metadata": {},
     "output_type": "execute_result"
    }
   ],
   "source": [
    "query = 'ceciestuntest'\n",
    "i_init = 4\n",
    "longueur = 3 # min 1\n",
    "query[i_init:i_init+longueur]"
   ]
  },
  {
   "cell_type": "code",
   "execution_count": 11,
   "metadata": {},
   "outputs": [
    {
     "name": "stdout",
     "output_type": "stream",
     "text": [
      "7\n"
     ]
    }
   ],
   "source": [
    "state = ['ceci', 'est']\n",
    "i_init = sum([len(word) for word in state])\n",
    "print(i_init)"
   ]
  },
  {
   "cell_type": "code",
   "execution_count": 19,
   "metadata": {},
   "outputs": [
    {
     "name": "stdout",
     "output_type": "stream",
     "text": [
      "u\n",
      "un\n",
      "unt\n",
      "unte\n",
      "untes\n",
      "untest\n"
     ]
    }
   ],
   "source": [
    "for i_end in range(i_init+1, len(query)+1):\n",
    "    print (query[i_init:i_end])"
   ]
  },
  {
   "cell_type": "code",
   "execution_count": 20,
   "metadata": {},
   "outputs": [
    {
     "data": {
      "text/plain": [
       "'ceci est'"
      ]
     },
     "execution_count": 20,
     "metadata": {},
     "output_type": "execute_result"
    }
   ],
   "source": [
    "\n",
    "\n",
    "\" \".join(state)"
   ]
  },
  {
   "cell_type": "markdown",
   "metadata": {},
   "source": [
    "Test sentences\n",
    "- `beforejumpingintocodeyoushouldthink`\n",
    "- `implementanalgorithmthatunlikegreedy`"
   ]
  },
  {
   "cell_type": "code",
   "execution_count": 4,
   "metadata": {},
   "outputs": [],
   "source": [
    "engineers = set(['John', 'Jane', 'Jack', 'Janice'])"
   ]
  },
  {
   "cell_type": "code",
   "execution_count": 5,
   "metadata": {},
   "outputs": [
    {
     "name": "stdout",
     "output_type": "stream",
     "text": [
      "Jane\n",
      "Jack\n",
      "Janice\n",
      "John\n"
     ]
    }
   ],
   "source": [
    "for name in engineers:\n",
    "    print(name)"
   ]
  },
  {
   "cell_type": "code",
   "execution_count": 6,
   "metadata": {},
   "outputs": [],
   "source": [
    "def bigramCost(a, b):\n",
    "    corpus = [wordsegUtil.SENTENCE_BEGIN] + 'beam me up scotty'.split()\n",
    "    if (a, b) in list(zip(corpus, corpus[1:])):\n",
    "        return 1.0\n",
    "    else:\n",
    "        return 1000.0\n",
    "def possibleFills(x):\n",
    "            fills = {\n",
    "                'bm'   : set(['beam', 'bam', 'boom']),\n",
    "                'm'    : set(['me', 'ma']),\n",
    "                'p'    : set(['up', 'oop', 'pa', 'epe']),\n",
    "                'sctty': set(['scotty']),\n",
    "            }\n",
    "            return fills.get(x, set())\n"
   ]
  },
  {
   "cell_type": "code",
   "execution_count": 8,
   "metadata": {},
   "outputs": [
    {
     "data": {
      "text/plain": [
       "{'bam', 'beam', 'boom'}"
      ]
     },
     "execution_count": 8,
     "metadata": {},
     "output_type": "execute_result"
    }
   ],
   "source": [
    "possibleFills('bm')"
   ]
  },
  {
   "cell_type": "code",
   "execution_count": 3,
   "metadata": {},
   "outputs": [
    {
     "data": {
      "text/plain": [
       "'tst'"
      ]
     },
     "execution_count": 3,
     "metadata": {},
     "output_type": "execute_result"
    }
   ],
   "source": [
    "queryWords = 'cc st n tst'\n",
    "words = queryWords.split()\n",
    "words[-1]"
   ]
  },
  {
   "cell_type": "code",
   "execution_count": 4,
   "metadata": {},
   "outputs": [
    {
     "data": {
      "text/plain": [
       "4"
      ]
     },
     "execution_count": 4,
     "metadata": {},
     "output_type": "execute_result"
    }
   ],
   "source": [
    "len(words)"
   ]
  },
  {
   "cell_type": "code",
   "execution_count": 15,
   "metadata": {},
   "outputs": [
    {
     "data": {
      "text/plain": [
       "<filter at 0x104fe4128>"
      ]
     },
     "execution_count": 15,
     "metadata": {},
     "output_type": "execute_result"
    }
   ],
   "source": [
    "import collections\n",
    "import math\n",
    "def alphaOnly(s):\n",
    "    s = s.replace('-', ' ')\n",
    "    return filter(lambda c: c.isalpha() or c == ' ', s)\n",
    "\n",
    "def cleanLine(l):\n",
    "    return alphaOnly(l.strip().lower())\n",
    "\n",
    "def words(l):\n",
    "    return l.split()\n",
    "\n",
    "l = 'où 1 été 01 fût dès à'\n",
    "ws = (cleanLine(l))\n",
    "ws"
   ]
  },
  {
   "cell_type": "code",
   "execution_count": 16,
   "metadata": {},
   "outputs": [
    {
     "name": "stdout",
     "output_type": "stream",
     "text": [
      "o\n",
      "ù\n",
      " \n",
      " \n",
      "é\n",
      "t\n",
      "é\n",
      " \n",
      " \n",
      "f\n",
      "û\n",
      "t\n",
      " \n",
      "d\n",
      "è\n",
      "s\n",
      " \n",
      "à\n"
     ]
    }
   ],
   "source": [
    "for w in ws:\n",
    "    print(w)"
   ]
  },
  {
   "cell_type": "code",
   "execution_count": 2,
   "metadata": {},
   "outputs": [
    {
     "data": {
      "text/plain": [
       "' '"
      ]
     },
     "execution_count": 2,
     "metadata": {},
     "output_type": "execute_result"
    }
   ],
   "source": [
    "'\\''.replace('\\'', ' ')"
   ]
  },
  {
   "cell_type": "code",
   "execution_count": 3,
   "metadata": {},
   "outputs": [],
   "source": [
    "# max(computeQ(mdp, V, state, action) for action in mdp.actions(state))\n",
    "# max([]) # = > ValueError: max() arg is an empty sequence"
   ]
  },
  {
   "cell_type": "markdown",
   "metadata": {},
   "source": [
    "Tirage d'une carte au harsard dans un deck"
   ]
  },
  {
   "cell_type": "code",
   "execution_count": 32,
   "metadata": {},
   "outputs": [],
   "source": [
    "deck_card_count = (3,) * 5 # initialement\n",
    "deck_card_count = (3, 0, 2, 3, 1)"
   ]
  },
  {
   "cell_type": "code",
   "execution_count": 33,
   "metadata": {},
   "outputs": [
    {
     "data": {
      "text/plain": [
       "[0, 0, 0, 2, 2, 3, 3, 3, 4]"
      ]
     },
     "execution_count": 33,
     "metadata": {},
     "output_type": "execute_result"
    }
   ],
   "source": [
    "# Reconstruction du deck\n",
    "deck = []\n",
    "for index, card_count in enumerate(deck_card_count):\n",
    "    # index : hauteur de la carte\n",
    "    # card_count : nd de cartes de ce type restant dans le deck\n",
    "    deck += list((index,)*card_count)\n",
    "    \n",
    "deck"
   ]
  },
  {
   "cell_type": "code",
   "execution_count": 24,
   "metadata": {},
   "outputs": [],
   "source": [
    "import random"
   ]
  },
  {
   "cell_type": "code",
   "execution_count": 31,
   "metadata": {},
   "outputs": [
    {
     "data": {
      "text/plain": [
       "3"
      ]
     },
     "execution_count": 31,
     "metadata": {},
     "output_type": "execute_result"
    }
   ],
   "source": [
    "random.choice(deck_card_count)"
   ]
  },
  {
   "cell_type": "code",
   "execution_count": 21,
   "metadata": {},
   "outputs": [
    {
     "data": {
      "text/plain": [
       "()"
      ]
     },
     "execution_count": 21,
     "metadata": {},
     "output_type": "execute_result"
    }
   ],
   "source": [
    "tuple_vide = (3,) * 0\n",
    "tuple_vide"
   ]
  },
  {
   "cell_type": "code",
   "execution_count": null,
   "metadata": {},
   "outputs": [],
   "source": []
  },
  {
   "cell_type": "code",
   "execution_count": null,
   "metadata": {},
   "outputs": [],
   "source": []
  },
  {
   "cell_type": "code",
   "execution_count": null,
   "metadata": {},
   "outputs": [],
   "source": []
  },
  {
   "cell_type": "code",
   "execution_count": null,
   "metadata": {},
   "outputs": [],
   "source": []
  },
  {
   "cell_type": "code",
   "execution_count": null,
   "metadata": {},
   "outputs": [],
   "source": []
  },
  {
   "cell_type": "code",
   "execution_count": null,
   "metadata": {},
   "outputs": [],
   "source": []
  },
  {
   "cell_type": "code",
   "execution_count": null,
   "metadata": {},
   "outputs": [],
   "source": []
  },
  {
   "cell_type": "code",
   "execution_count": null,
   "metadata": {},
   "outputs": [],
   "source": []
  }
 ],
 "metadata": {
  "kernelspec": {
   "display_name": "Python 3",
   "language": "python",
   "name": "python3"
  },
  "language_info": {
   "codemirror_mode": {
    "name": "ipython",
    "version": 3
   },
   "file_extension": ".py",
   "mimetype": "text/x-python",
   "name": "python",
   "nbconvert_exporter": "python",
   "pygments_lexer": "ipython3",
   "version": "3.7.3"
  }
 },
 "nbformat": 4,
 "nbformat_minor": 2
}
